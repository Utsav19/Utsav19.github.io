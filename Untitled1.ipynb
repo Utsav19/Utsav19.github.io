{
 "cells": [
  {
   "cell_type": "code",
   "execution_count": null,
   "id": "1e9a5e2d",
   "metadata": {},
   "outputs": [],
   "source": [
    "import matplotlib.pyplot as plt\n",
    "import numpy as np\n",
    "from scipy.integrate import solve_ivp\n",
    "\n",
    "\n",
    "%matplotlib inline\n",
    "\n",
    "F = lambda t, s: np.cos(t)\n",
    "\n",
    "t_eval = np.arange(0, np.pi, 0.1)\n",
    "sol = solve_ivp(F, [0, np.pi], [0], t_eval=t_eval)\n",
    "\n",
    "plt.figure(figsize = (12, 4))\n",
    "plt.subplot(121)\n",
    "plt.plot(sol.t, sol.y[0])\n",
    "plt.xlabel('t')\n",
    "plt.ylabel('S(t)')\n",
    "plt.subplot(122)\n",
    "plt.plot(sol.t, sol.y[0] - np.sin(sol.t))\n",
    "plt.xlabel('t')\n",
    "plt.ylabel('S(t) - sin(t)')\n",
    "plt.tight_layout()\n",
    "plt.show()\n"
   ]
  },
  {
   "cell_type": "code",
   "execution_count": null,
   "id": "d8f99a2c",
   "metadata": {},
   "outputs": [],
   "source": []
  },
  {
   "cell_type": "code",
   "execution_count": null,
   "id": "e2586ca7",
   "metadata": {},
   "outputs": [],
   "source": []
  }
 ],
 "metadata": {
  "kernelspec": {
   "display_name": "Python 3",
   "language": "python",
   "name": "python3"
  },
  "language_info": {
   "codemirror_mode": {
    "name": "ipython",
    "version": 3
   },
   "file_extension": ".py",
   "mimetype": "text/x-python",
   "name": "python",
   "nbconvert_exporter": "python",
   "pygments_lexer": "ipython3",
   "version": "3.9.9"
  }
 },
 "nbformat": 4,
 "nbformat_minor": 5
}
